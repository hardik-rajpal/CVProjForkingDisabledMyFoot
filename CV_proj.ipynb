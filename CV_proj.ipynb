{
  "cells": [
    {
      "cell_type": "code",
      "source": [
        "!pip install tensorflow==2.7.0"
      ],
      "metadata": {
        "colab": {
          "base_uri": "https://localhost:8080/",
          "height": 1000
        },
        "id": "bxHg86a2l_FF",
        "outputId": "58729569-e039-419a-e82c-37e250b5f42d"
      },
      "execution_count": null,
      "outputs": [
        {
          "output_type": "stream",
          "name": "stdout",
          "text": [
            "Looking in indexes: https://pypi.org/simple, https://us-python.pkg.dev/colab-wheels/public/simple/\n",
            "Collecting tensorflow==2.7.0\n",
            "  Downloading tensorflow-2.7.0-cp39-cp39-manylinux2010_x86_64.whl (489.7 MB)\n",
            "\u001b[2K     \u001b[90m━━━━━━━━━━━━━━━━━━━━━━━━━━━━━━━━━━━━━━━\u001b[0m \u001b[32m489.7/489.7 MB\u001b[0m \u001b[31m3.1 MB/s\u001b[0m eta \u001b[36m0:00:00\u001b[0m\n",
            "\u001b[?25hRequirement already satisfied: six>=1.12.0 in /usr/local/lib/python3.9/dist-packages (from tensorflow==2.7.0) (1.16.0)\n",
            "Requirement already satisfied: absl-py>=0.4.0 in /usr/local/lib/python3.9/dist-packages (from tensorflow==2.7.0) (1.4.0)\n",
            "Requirement already satisfied: wheel<1.0,>=0.32.0 in /usr/local/lib/python3.9/dist-packages (from tensorflow==2.7.0) (0.40.0)\n",
            "Requirement already satisfied: opt-einsum>=2.3.2 in /usr/local/lib/python3.9/dist-packages (from tensorflow==2.7.0) (3.3.0)\n",
            "Requirement already satisfied: grpcio<2.0,>=1.24.3 in /usr/local/lib/python3.9/dist-packages (from tensorflow==2.7.0) (1.53.0)\n",
            "Collecting keras<2.8,>=2.7.0rc0\n",
            "  Downloading keras-2.7.0-py2.py3-none-any.whl (1.3 MB)\n",
            "\u001b[2K     \u001b[90m━━━━━━━━━━━━━━━━━━━━━━━━━━━━━━━━━━━━━━━━\u001b[0m \u001b[32m1.3/1.3 MB\u001b[0m \u001b[31m60.3 MB/s\u001b[0m eta \u001b[36m0:00:00\u001b[0m\n",
            "\u001b[?25hRequirement already satisfied: astunparse>=1.6.0 in /usr/local/lib/python3.9/dist-packages (from tensorflow==2.7.0) (1.6.3)\n",
            "Requirement already satisfied: keras-preprocessing>=1.1.1 in /usr/local/lib/python3.9/dist-packages (from tensorflow==2.7.0) (1.1.2)\n",
            "Requirement already satisfied: tensorboard~=2.6 in /usr/local/lib/python3.9/dist-packages (from tensorflow==2.7.0) (2.8.0)\n",
            "Requirement already satisfied: libclang>=9.0.1 in /usr/local/lib/python3.9/dist-packages (from tensorflow==2.7.0) (16.0.0)\n",
            "Collecting flatbuffers<3.0,>=1.12\n",
            "  Downloading flatbuffers-2.0.7-py2.py3-none-any.whl (26 kB)\n",
            "Collecting tensorflow-estimator<2.8,~=2.7.0rc0\n",
            "  Downloading tensorflow_estimator-2.7.0-py2.py3-none-any.whl (463 kB)\n",
            "\u001b[2K     \u001b[90m━━━━━━━━━━━━━━━━━━━━━━━━━━━━━━━━━━━━━━\u001b[0m \u001b[32m463.1/463.1 KB\u001b[0m \u001b[31m43.4 MB/s\u001b[0m eta \u001b[36m0:00:00\u001b[0m\n",
            "\u001b[?25hRequirement already satisfied: h5py>=2.9.0 in /usr/local/lib/python3.9/dist-packages (from tensorflow==2.7.0) (3.8.0)\n",
            "Requirement already satisfied: numpy>=1.14.5 in /usr/local/lib/python3.9/dist-packages (from tensorflow==2.7.0) (1.22.4)\n",
            "Requirement already satisfied: wrapt>=1.11.0 in /usr/local/lib/python3.9/dist-packages (from tensorflow==2.7.0) (1.14.1)\n",
            "Requirement already satisfied: google-pasta>=0.1.1 in /usr/local/lib/python3.9/dist-packages (from tensorflow==2.7.0) (0.2.0)\n",
            "Requirement already satisfied: termcolor>=1.1.0 in /usr/local/lib/python3.9/dist-packages (from tensorflow==2.7.0) (2.2.0)\n",
            "Requirement already satisfied: gast<0.5.0,>=0.2.1 in /usr/local/lib/python3.9/dist-packages (from tensorflow==2.7.0) (0.4.0)\n",
            "Requirement already satisfied: protobuf>=3.9.2 in /usr/local/lib/python3.9/dist-packages (from tensorflow==2.7.0) (3.20.3)\n",
            "Requirement already satisfied: tensorflow-io-gcs-filesystem>=0.21.0 in /usr/local/lib/python3.9/dist-packages (from tensorflow==2.7.0) (0.32.0)\n",
            "Requirement already satisfied: typing-extensions>=3.6.6 in /usr/local/lib/python3.9/dist-packages (from tensorflow==2.7.0) (4.5.0)\n",
            "Requirement already satisfied: requests<3,>=2.21.0 in /usr/local/lib/python3.9/dist-packages (from tensorboard~=2.6->tensorflow==2.7.0) (2.27.1)\n",
            "Requirement already satisfied: markdown>=2.6.8 in /usr/local/lib/python3.9/dist-packages (from tensorboard~=2.6->tensorflow==2.7.0) (3.4.3)\n",
            "Requirement already satisfied: tensorboard-data-server<0.7.0,>=0.6.0 in /usr/local/lib/python3.9/dist-packages (from tensorboard~=2.6->tensorflow==2.7.0) (0.6.1)\n",
            "Requirement already satisfied: google-auth<3,>=1.6.3 in /usr/local/lib/python3.9/dist-packages (from tensorboard~=2.6->tensorflow==2.7.0) (2.17.0)\n",
            "Requirement already satisfied: setuptools>=41.0.0 in /usr/local/lib/python3.9/dist-packages (from tensorboard~=2.6->tensorflow==2.7.0) (67.6.1)\n",
            "Requirement already satisfied: google-auth-oauthlib<0.5,>=0.4.1 in /usr/local/lib/python3.9/dist-packages (from tensorboard~=2.6->tensorflow==2.7.0) (0.4.6)\n",
            "Requirement already satisfied: werkzeug>=0.11.15 in /usr/local/lib/python3.9/dist-packages (from tensorboard~=2.6->tensorflow==2.7.0) (2.2.3)\n",
            "Requirement already satisfied: tensorboard-plugin-wit>=1.6.0 in /usr/local/lib/python3.9/dist-packages (from tensorboard~=2.6->tensorflow==2.7.0) (1.8.1)\n",
            "Requirement already satisfied: rsa<5,>=3.1.4 in /usr/local/lib/python3.9/dist-packages (from google-auth<3,>=1.6.3->tensorboard~=2.6->tensorflow==2.7.0) (4.9)\n",
            "Requirement already satisfied: pyasn1-modules>=0.2.1 in /usr/local/lib/python3.9/dist-packages (from google-auth<3,>=1.6.3->tensorboard~=2.6->tensorflow==2.7.0) (0.2.8)\n",
            "Requirement already satisfied: cachetools<6.0,>=2.0.0 in /usr/local/lib/python3.9/dist-packages (from google-auth<3,>=1.6.3->tensorboard~=2.6->tensorflow==2.7.0) (5.3.0)\n",
            "Requirement already satisfied: requests-oauthlib>=0.7.0 in /usr/local/lib/python3.9/dist-packages (from google-auth-oauthlib<0.5,>=0.4.1->tensorboard~=2.6->tensorflow==2.7.0) (1.3.1)\n",
            "Requirement already satisfied: importlib-metadata>=4.4 in /usr/local/lib/python3.9/dist-packages (from markdown>=2.6.8->tensorboard~=2.6->tensorflow==2.7.0) (6.1.0)\n",
            "Requirement already satisfied: charset-normalizer~=2.0.0 in /usr/local/lib/python3.9/dist-packages (from requests<3,>=2.21.0->tensorboard~=2.6->tensorflow==2.7.0) (2.0.12)\n",
            "Requirement already satisfied: certifi>=2017.4.17 in /usr/local/lib/python3.9/dist-packages (from requests<3,>=2.21.0->tensorboard~=2.6->tensorflow==2.7.0) (2022.12.7)\n",
            "Requirement already satisfied: idna<4,>=2.5 in /usr/local/lib/python3.9/dist-packages (from requests<3,>=2.21.0->tensorboard~=2.6->tensorflow==2.7.0) (3.4)\n",
            "Requirement already satisfied: urllib3<1.27,>=1.21.1 in /usr/local/lib/python3.9/dist-packages (from requests<3,>=2.21.0->tensorboard~=2.6->tensorflow==2.7.0) (1.26.15)\n",
            "Requirement already satisfied: MarkupSafe>=2.1.1 in /usr/local/lib/python3.9/dist-packages (from werkzeug>=0.11.15->tensorboard~=2.6->tensorflow==2.7.0) (2.1.2)\n",
            "Requirement already satisfied: zipp>=0.5 in /usr/local/lib/python3.9/dist-packages (from importlib-metadata>=4.4->markdown>=2.6.8->tensorboard~=2.6->tensorflow==2.7.0) (3.15.0)\n",
            "Requirement already satisfied: pyasn1<0.5.0,>=0.4.6 in /usr/local/lib/python3.9/dist-packages (from pyasn1-modules>=0.2.1->google-auth<3,>=1.6.3->tensorboard~=2.6->tensorflow==2.7.0) (0.4.8)\n",
            "Requirement already satisfied: oauthlib>=3.0.0 in /usr/local/lib/python3.9/dist-packages (from requests-oauthlib>=0.7.0->google-auth-oauthlib<0.5,>=0.4.1->tensorboard~=2.6->tensorflow==2.7.0) (3.2.2)\n",
            "Installing collected packages: tensorflow-estimator, keras, flatbuffers, tensorflow\n",
            "  Attempting uninstall: tensorflow-estimator\n",
            "    Found existing installation: tensorflow-estimator 2.12.0\n",
            "    Uninstalling tensorflow-estimator-2.12.0:\n",
            "      Successfully uninstalled tensorflow-estimator-2.12.0\n",
            "  Attempting uninstall: keras\n",
            "    Found existing installation: keras 2.8.0\n",
            "    Uninstalling keras-2.8.0:\n",
            "      Successfully uninstalled keras-2.8.0\n",
            "  Attempting uninstall: flatbuffers\n",
            "    Found existing installation: flatbuffers 23.3.3\n",
            "    Uninstalling flatbuffers-23.3.3:\n",
            "      Successfully uninstalled flatbuffers-23.3.3\n",
            "  Attempting uninstall: tensorflow\n",
            "    Found existing installation: tensorflow 2.8.0\n",
            "    Uninstalling tensorflow-2.8.0:\n",
            "      Successfully uninstalled tensorflow-2.8.0\n",
            "Successfully installed flatbuffers-2.0.7 keras-2.7.0 tensorflow-2.7.0 tensorflow-estimator-2.7.0\n"
          ]
        },
        {
          "output_type": "display_data",
          "data": {
            "application/vnd.colab-display-data+json": {
              "pip_warning": {
                "packages": [
                  "flatbuffers",
                  "keras",
                  "tensorflow"
                ]
              }
            }
          },
          "metadata": {}
        }
      ]
    },
    {
      "cell_type": "code",
      "execution_count": 1,
      "metadata": {
        "colab": {
          "base_uri": "https://localhost:8080/"
        },
        "id": "n37PeuXsnUR5",
        "outputId": "42ab3951-6e04-4a4c-dfdd-04c950162d81"
      },
      "outputs": [
        {
          "output_type": "stream",
          "name": "stdout",
          "text": [
            "Drive already mounted at /content/drive; to attempt to forcibly remount, call drive.mount(\"/content/drive\", force_remount=True).\n"
          ]
        }
      ],
      "source": [
        "from google.colab import drive\n",
        "drive.mount('/content/drive')"
      ]
    },
    {
      "cell_type": "code",
      "execution_count": 2,
      "metadata": {
        "id": "d73dKavKH1Xv"
      },
      "outputs": [],
      "source": [
        "import os, sys, numpy as np\n",
        "import argparse\n",
        "from time import time\n",
        "from tqdm import tqdm\n",
        "import tensorflow \n",
        "import torch\n",
        "import torch.nn as nn\n",
        "from torch.autograd import Variable\n",
        "import torch.utils.data as data\n",
        "import torchvision.transforms as transforms\n",
        "from PIL import Image\n",
        "import keras\n",
        "from keras.layers import TimeDistributed as td\n",
        "from keras.layers import Conv2D, Flatten, Dense, ZeroPadding2D, Activation\n",
        "from keras.layers import MaxPooling2D, Dropout, BatchNormalization, Reshape\n",
        "import os\n",
        "import cv2\n",
        "from google.colab.patches import cv2_imshow\n",
        "from PIL import Image, ImageOps\n",
        "import random"
      ]
    },
    {
      "cell_type": "code",
      "execution_count": 3,
      "metadata": {
        "id": "MhIb267BUOYt"
      },
      "outputs": [],
      "source": [
        "dirlist=os.listdir('/content/drive/MyDrive/cv/Normal images')\n",
        "for image in dirlist:\n",
        "  img=cv2.imread('/content/drive/MyDrive/cv/Normal images/'+image)\n",
        "  size = (300,300)\n",
        "  img2 = cv2.resize(img, size)\n",
        "  cv2.imwrite('/content/drive/MyDrive/cv/small/'+image,img2)"
      ]
    },
    {
      "cell_type": "code",
      "execution_count": 4,
      "metadata": {
        "id": "au85gMM4VnT3"
      },
      "outputs": [],
      "source": [
        "dirlist=os.listdir('/content/drive/MyDrive/cv/small')\n",
        "xim=[]\n",
        "yim=[]\n",
        "for image in dirlist:\n",
        "  small=cv2.imread('/content/drive/MyDrive/cv/small/'+image)\n",
        "  one=small[:100,:100,:]\n",
        "  two=small[:100,100:200,:]\n",
        "  three=small[:100,200:300,:]\n",
        "  four=small[100:200,:100,:]\n",
        "  five=small[100:200,100:200,:]\n",
        "  six=small[100:200,200:300,:]\n",
        "  seven=small[200:300,:100,:]\n",
        "  eight=small[200:300,100:200,:]\n",
        "  nine=small[200:300,200:300,:]\n",
        "  x=[]\n",
        "  y=[1,2,3,4,5,6,7,8,9]\n",
        "  random.shuffle(y)\n",
        "  for i in range(9):\n",
        "    if (y[i]==1):\n",
        "      x.append(one)\n",
        "    if (y[i]==2):\n",
        "      x.append(two)\n",
        "    if (y[i]==3):\n",
        "      x.append(three)\n",
        "    if (y[i]==4):\n",
        "      x.append(four)\n",
        "    if (y[i]==5):\n",
        "      x.append(five)\n",
        "    if (y[i]==6):\n",
        "      x.append(six)\n",
        "    if (y[i]==7):\n",
        "      x.append(seven)\n",
        "    if (y[i]==8):\n",
        "      x.append(eight)\n",
        "    if (y[i]==9):\n",
        "      x.append(nine)\n",
        "  xar=np.array(x)\n",
        "  yar=np.array(y)\n",
        "  xim.append(xar)\n",
        "  yim.append(yar)\n",
        "xfin=np.array(xim)\n",
        "yfin=np.array(yim)"
      ]
    },
    {
      "cell_type": "code",
      "execution_count": 10,
      "metadata": {
        "colab": {
          "base_uri": "https://localhost:8080/"
        },
        "id": "mEzLUyJfZriv",
        "outputId": "6577b5fd-f740-41cc-8213-8c4629e9c6a1"
      },
      "outputs": [
        {
          "output_type": "stream",
          "name": "stdout",
          "text": [
            "(1000, 9, 100, 100, 3)\n",
            "(1000, 9)\n"
          ]
        }
      ],
      "source": [
        "print(xfin.shape)\n",
        "print(yfin.shape)\n",
        "Xtrain=xfin[:800,:,:,:,:]\n",
        "Ytrain=yfin[:800,:]\n",
        "Xval=xfin[800:900,:,:,:,:]\n",
        "Yval=yfin[800:900,:]\n",
        "Xtest=xfin[900:1000,:,:,:,:]\n",
        "Ytest=yfin[900:1000,:]"
      ]
    },
    {
      "cell_type": "code",
      "execution_count": 18,
      "metadata": {
        "colab": {
          "base_uri": "https://localhost:8080/"
        },
        "id": "4J05Ol4Xeulh",
        "outputId": "ff668ade-29b4-4726-a5b0-aab352872909"
      },
      "outputs": [
        {
          "output_type": "stream",
          "name": "stdout",
          "text": [
            "Model: \"sequential_1\"\n",
            "_________________________________________________________________\n",
            " Layer (type)                Output Shape              Param #   \n",
            "=================================================================\n",
            " time_distributed_13 (TimeDi  (None, 9, 104, 104, 3)   0         \n",
            " stributed)                                                      \n",
            "                                                                 \n",
            " time_distributed_14 (TimeDi  (None, 9, 52, 52, 50)    3800      \n",
            " stributed)                                                      \n",
            "                                                                 \n",
            " time_distributed_15 (TimeDi  (None, 9, 52, 52, 50)    200       \n",
            " stributed)                                                      \n",
            "                                                                 \n",
            " time_distributed_16 (TimeDi  (None, 9, 26, 26, 50)    0         \n",
            " stributed)                                                      \n",
            "                                                                 \n",
            " time_distributed_17 (TimeDi  (None, 9, 13, 13, 100)   125100    \n",
            " stributed)                                                      \n",
            "                                                                 \n",
            " time_distributed_18 (TimeDi  (None, 9, 13, 13, 100)   400       \n",
            " stributed)                                                      \n",
            "                                                                 \n",
            " time_distributed_19 (TimeDi  (None, 9, 13, 13, 100)   0         \n",
            " stributed)                                                      \n",
            "                                                                 \n",
            " time_distributed_20 (TimeDi  (None, 9, 7, 7, 100)     90100     \n",
            " stributed)                                                      \n",
            "                                                                 \n",
            " time_distributed_21 (TimeDi  (None, 9, 7, 7, 100)     400       \n",
            " stributed)                                                      \n",
            "                                                                 \n",
            " time_distributed_22 (TimeDi  (None, 9, 7, 7, 100)     0         \n",
            " stributed)                                                      \n",
            "                                                                 \n",
            " time_distributed_23 (TimeDi  (None, 9, 7, 7, 200)     180200    \n",
            " stributed)                                                      \n",
            "                                                                 \n",
            " time_distributed_24 (TimeDi  (None, 9, 7, 7, 200)     800       \n",
            " stributed)                                                      \n",
            "                                                                 \n",
            " time_distributed_25 (TimeDi  (None, 9, 7, 7, 200)     0         \n",
            " stributed)                                                      \n",
            "                                                                 \n",
            " flatten_1 (Flatten)         (None, 88200)             0         \n",
            "                                                                 \n",
            " dense_3 (Dense)             (None, 600)               52920600  \n",
            "                                                                 \n",
            " batch_normalization_10 (Bat  (None, 600)              2400      \n",
            " chNormalization)                                                \n",
            "                                                                 \n",
            " dense_4 (Dense)             (None, 400)               240400    \n",
            "                                                                 \n",
            " batch_normalization_11 (Bat  (None, 400)              1600      \n",
            " chNormalization)                                                \n",
            "                                                                 \n",
            " dropout_7 (Dropout)         (None, 400)               0         \n",
            "                                                                 \n",
            " dense_5 (Dense)             (None, 9)                 3609      \n",
            "                                                                 \n",
            " activation_1 (Activation)   (None, 9)                 0         \n",
            "                                                                 \n",
            "=================================================================\n",
            "Total params: 53,569,609\n",
            "Trainable params: 53,566,709\n",
            "Non-trainable params: 2,900\n",
            "_________________________________________________________________\n"
          ]
        }
      ],
      "source": [
        "model = keras.models.Sequential()\n",
        "model.add(td(ZeroPadding2D(2), input_shape=(9, 100, 100, 3)))\n",
        "model.add(td(Conv2D(50, kernel_size=(5,5), padding='same', activation='relu', strides=2)))\n",
        "model.add(td(BatchNormalization()))\n",
        "model.add(td(MaxPooling2D()))\n",
        "model.add(td(Conv2D(100, kernel_size=(5,5), padding='same', activation='relu', strides=2)))\n",
        "model.add(td(BatchNormalization()))\n",
        "model.add(td(Dropout(0.3)))\n",
        "model.add(td(Conv2D(100, kernel_size=(3,3), padding='same', activation='relu', strides=2)))\n",
        "model.add(td(BatchNormalization()))\n",
        "model.add(td(Dropout(0.3)))\n",
        "model.add(td(Conv2D(200, kernel_size=(3,3), padding='same', activation='relu', strides=1)))\n",
        "model.add(td(BatchNormalization()))\n",
        "model.add(td(Dropout(0.3)))\n",
        "model.add(Flatten())\n",
        "model.add(Dense(600, activation='relu'))\n",
        "model.add(BatchNormalization())\n",
        "model.add(Dense(400, activation='relu'))\n",
        "model.add(BatchNormalization())\n",
        "model.add(Dropout(0.3))\n",
        "model.add(Dense(9))\n",
        "model.add(Activation('softmax'))\n",
        "model.summary()"
      ]
    },
    {
      "cell_type": "code",
      "execution_count": 19,
      "metadata": {
        "id": "Jdt63xhjhPq-"
      },
      "outputs": [],
      "source": [
        "model.compile(loss='MeanSquaredError', optimizer=tensorflow.keras.optimizers.Adam(learning_rate=1e-3), metrics=['accuracy'])"
      ]
    },
    {
      "cell_type": "code",
      "source": [
        "callback = tensorflow.keras.callbacks.EarlyStopping(monitor='loss', patience=10)\n"
      ],
      "metadata": {
        "id": "SiZa24hss55x"
      },
      "execution_count": 20,
      "outputs": []
    },
    {
      "cell_type": "code",
      "execution_count": 21,
      "metadata": {
        "colab": {
          "base_uri": "https://localhost:8080/"
        },
        "id": "6jgRfwqUh6qJ",
        "outputId": "13907725-b643-492b-9de0-348bd5109589"
      },
      "outputs": [
        {
          "output_type": "stream",
          "name": "stdout",
          "text": [
            "Epoch 1/800\n",
            "80/80 [==============================] - 4s 34ms/step - loss: 30.3360 - accuracy: 0.2188 - val_loss: 30.4763 - val_accuracy: 0.2100\n",
            "Epoch 2/800\n",
            "80/80 [==============================] - 2s 30ms/step - loss: 30.2443 - accuracy: 0.2525 - val_loss: 30.4933 - val_accuracy: 0.1800\n",
            "Epoch 3/800\n",
            "80/80 [==============================] - 3s 36ms/step - loss: 30.1852 - accuracy: 0.2862 - val_loss: 30.2205 - val_accuracy: 0.2400\n",
            "Epoch 4/800\n",
            "80/80 [==============================] - 3s 36ms/step - loss: 30.1388 - accuracy: 0.3525 - val_loss: 30.2710 - val_accuracy: 0.1900\n",
            "Epoch 5/800\n",
            "80/80 [==============================] - 3s 39ms/step - loss: 30.1401 - accuracy: 0.3413 - val_loss: 30.2496 - val_accuracy: 0.2100\n",
            "Epoch 6/800\n",
            "80/80 [==============================] - 3s 33ms/step - loss: 30.1114 - accuracy: 0.3862 - val_loss: 30.1900 - val_accuracy: 0.3300\n",
            "Epoch 7/800\n",
            "80/80 [==============================] - 2s 31ms/step - loss: 30.0881 - accuracy: 0.4075 - val_loss: 30.2272 - val_accuracy: 0.2700\n",
            "Epoch 8/800\n",
            "80/80 [==============================] - 3s 32ms/step - loss: 30.0930 - accuracy: 0.3713 - val_loss: 30.1892 - val_accuracy: 0.3500\n",
            "Epoch 9/800\n",
            "80/80 [==============================] - 3s 31ms/step - loss: 30.1298 - accuracy: 0.3913 - val_loss: 30.3793 - val_accuracy: 0.1500\n",
            "Epoch 10/800\n",
            "80/80 [==============================] - 3s 32ms/step - loss: 30.1892 - accuracy: 0.3425 - val_loss: 30.2746 - val_accuracy: 0.2100\n",
            "Epoch 11/800\n",
            "80/80 [==============================] - 3s 32ms/step - loss: 30.1400 - accuracy: 0.3825 - val_loss: 30.2651 - val_accuracy: 0.1600\n",
            "Epoch 12/800\n",
            "80/80 [==============================] - 2s 31ms/step - loss: 30.1401 - accuracy: 0.3587 - val_loss: 30.3029 - val_accuracy: 0.1900\n",
            "Epoch 13/800\n",
            "80/80 [==============================] - 3s 32ms/step - loss: 30.1019 - accuracy: 0.4013 - val_loss: 30.2390 - val_accuracy: 0.2900\n",
            "Epoch 14/800\n",
            "80/80 [==============================] - 2s 30ms/step - loss: 30.0837 - accuracy: 0.4087 - val_loss: 30.2549 - val_accuracy: 0.2400\n",
            "Epoch 15/800\n",
            "80/80 [==============================] - 3s 31ms/step - loss: 30.0939 - accuracy: 0.4187 - val_loss: 30.3345 - val_accuracy: 0.2500\n",
            "Epoch 16/800\n",
            "80/80 [==============================] - 3s 33ms/step - loss: 30.1073 - accuracy: 0.4125 - val_loss: 30.1923 - val_accuracy: 0.2700\n",
            "Epoch 17/800\n",
            "80/80 [==============================] - 3s 33ms/step - loss: 30.0590 - accuracy: 0.4325 - val_loss: 30.1912 - val_accuracy: 0.2900\n",
            "Epoch 18/800\n",
            "80/80 [==============================] - 2s 31ms/step - loss: 30.0415 - accuracy: 0.4575 - val_loss: 30.2303 - val_accuracy: 0.2400\n",
            "Epoch 19/800\n",
            "80/80 [==============================] - 2s 30ms/step - loss: 30.0200 - accuracy: 0.4550 - val_loss: 30.2624 - val_accuracy: 0.2800\n",
            "Epoch 20/800\n",
            "80/80 [==============================] - 2s 30ms/step - loss: 30.0242 - accuracy: 0.4863 - val_loss: 30.2613 - val_accuracy: 0.3000\n",
            "Epoch 21/800\n",
            "80/80 [==============================] - 2s 30ms/step - loss: 30.0189 - accuracy: 0.4750 - val_loss: 30.2194 - val_accuracy: 0.2800\n",
            "Epoch 22/800\n",
            "80/80 [==============================] - 3s 31ms/step - loss: 30.0205 - accuracy: 0.4750 - val_loss: 30.2817 - val_accuracy: 0.2400\n",
            "Epoch 23/800\n",
            "80/80 [==============================] - 3s 33ms/step - loss: 30.0313 - accuracy: 0.4737 - val_loss: 30.2208 - val_accuracy: 0.2500\n",
            "Epoch 24/800\n",
            "80/80 [==============================] - 3s 34ms/step - loss: 30.0301 - accuracy: 0.4638 - val_loss: 30.2083 - val_accuracy: 0.2400\n",
            "Epoch 25/800\n",
            "80/80 [==============================] - 3s 33ms/step - loss: 29.9874 - accuracy: 0.5337 - val_loss: 30.2089 - val_accuracy: 0.3200\n",
            "Epoch 26/800\n",
            "80/80 [==============================] - 2s 31ms/step - loss: 29.9786 - accuracy: 0.5400 - val_loss: 30.2070 - val_accuracy: 0.3400\n",
            "Epoch 27/800\n",
            "80/80 [==============================] - 2s 30ms/step - loss: 30.0194 - accuracy: 0.5038 - val_loss: 30.2571 - val_accuracy: 0.2600\n",
            "Epoch 28/800\n",
            "80/80 [==============================] - 2s 31ms/step - loss: 30.0967 - accuracy: 0.4275 - val_loss: 30.2103 - val_accuracy: 0.3000\n",
            "Epoch 29/800\n",
            "80/80 [==============================] - 2s 31ms/step - loss: 30.0317 - accuracy: 0.4737 - val_loss: 30.2701 - val_accuracy: 0.2200\n",
            "Epoch 30/800\n",
            "80/80 [==============================] - 3s 31ms/step - loss: 30.0264 - accuracy: 0.4863 - val_loss: 30.1928 - val_accuracy: 0.2600\n",
            "Epoch 31/800\n",
            "80/80 [==============================] - 3s 32ms/step - loss: 29.9936 - accuracy: 0.5125 - val_loss: 30.2192 - val_accuracy: 0.2800\n",
            "Epoch 32/800\n",
            "80/80 [==============================] - 2s 31ms/step - loss: 29.9879 - accuracy: 0.5263 - val_loss: 30.2332 - val_accuracy: 0.2600\n",
            "Epoch 33/800\n",
            "80/80 [==============================] - 2s 30ms/step - loss: 29.9829 - accuracy: 0.5437 - val_loss: 30.2916 - val_accuracy: 0.2800\n",
            "Epoch 34/800\n",
            "80/80 [==============================] - 2s 31ms/step - loss: 29.9761 - accuracy: 0.5512 - val_loss: 30.2212 - val_accuracy: 0.2800\n",
            "Epoch 35/800\n",
            "80/80 [==============================] - 2s 31ms/step - loss: 29.9595 - accuracy: 0.5725 - val_loss: 30.2902 - val_accuracy: 0.2700\n",
            "Epoch 36/800\n",
            "80/80 [==============================] - 2s 31ms/step - loss: 29.9809 - accuracy: 0.5638 - val_loss: 30.2164 - val_accuracy: 0.3100\n",
            "Epoch 37/800\n",
            "80/80 [==============================] - 3s 32ms/step - loss: 29.9657 - accuracy: 0.5838 - val_loss: 30.2198 - val_accuracy: 0.3500\n",
            "Epoch 38/800\n",
            "80/80 [==============================] - 2s 31ms/step - loss: 29.9476 - accuracy: 0.5700 - val_loss: 30.1607 - val_accuracy: 0.3300\n",
            "Epoch 39/800\n",
            "80/80 [==============================] - 3s 31ms/step - loss: 29.9864 - accuracy: 0.5500 - val_loss: 30.3396 - val_accuracy: 0.2300\n",
            "Epoch 40/800\n",
            "80/80 [==============================] - 2s 30ms/step - loss: 30.0235 - accuracy: 0.5075 - val_loss: 30.2125 - val_accuracy: 0.3500\n",
            "Epoch 41/800\n",
            "80/80 [==============================] - 2s 30ms/step - loss: 29.9802 - accuracy: 0.5412 - val_loss: 30.2401 - val_accuracy: 0.2300\n",
            "Epoch 42/800\n",
            "80/80 [==============================] - 3s 32ms/step - loss: 29.9505 - accuracy: 0.5800 - val_loss: 30.2000 - val_accuracy: 0.3100\n",
            "Epoch 43/800\n",
            "80/80 [==============================] - 3s 33ms/step - loss: 29.9480 - accuracy: 0.6025 - val_loss: 30.2234 - val_accuracy: 0.2500\n",
            "Epoch 44/800\n",
            "80/80 [==============================] - 3s 32ms/step - loss: 29.9457 - accuracy: 0.5962 - val_loss: 30.1920 - val_accuracy: 0.2600\n",
            "Epoch 45/800\n",
            "80/80 [==============================] - 3s 32ms/step - loss: 29.9354 - accuracy: 0.6000 - val_loss: 30.1820 - val_accuracy: 0.3400\n",
            "Epoch 46/800\n",
            "80/80 [==============================] - 2s 30ms/step - loss: 29.9311 - accuracy: 0.6338 - val_loss: 30.1770 - val_accuracy: 0.3100\n",
            "Epoch 47/800\n",
            "80/80 [==============================] - 3s 31ms/step - loss: 29.9255 - accuracy: 0.6400 - val_loss: 30.1696 - val_accuracy: 0.3400\n",
            "Epoch 48/800\n",
            "80/80 [==============================] - 3s 31ms/step - loss: 29.9613 - accuracy: 0.6000 - val_loss: 30.2027 - val_accuracy: 0.2800\n",
            "Epoch 49/800\n",
            "80/80 [==============================] - 3s 31ms/step - loss: 29.9339 - accuracy: 0.6075 - val_loss: 30.2291 - val_accuracy: 0.3000\n",
            "Epoch 50/800\n",
            "80/80 [==============================] - 3s 31ms/step - loss: 29.9435 - accuracy: 0.6263 - val_loss: 30.2024 - val_accuracy: 0.2400\n",
            "Epoch 51/800\n",
            "80/80 [==============================] - 3s 32ms/step - loss: 29.9271 - accuracy: 0.6438 - val_loss: 30.2077 - val_accuracy: 0.2700\n",
            "Epoch 52/800\n",
            "80/80 [==============================] - 2s 30ms/step - loss: 29.9143 - accuracy: 0.6538 - val_loss: 30.2219 - val_accuracy: 0.2800\n",
            "Epoch 53/800\n",
            "80/80 [==============================] - 2s 30ms/step - loss: 29.9180 - accuracy: 0.6413 - val_loss: 30.2002 - val_accuracy: 0.3000\n",
            "Epoch 54/800\n",
            "80/80 [==============================] - 2s 30ms/step - loss: 29.8978 - accuracy: 0.6913 - val_loss: 30.1890 - val_accuracy: 0.2900\n",
            "Epoch 55/800\n",
            "80/80 [==============================] - 3s 32ms/step - loss: 29.8878 - accuracy: 0.7063 - val_loss: 30.1520 - val_accuracy: 0.3400\n",
            "Epoch 56/800\n",
            "80/80 [==============================] - 3s 33ms/step - loss: 29.9432 - accuracy: 0.6425 - val_loss: 30.1248 - val_accuracy: 0.3600\n",
            "Epoch 57/800\n",
            "80/80 [==============================] - 3s 32ms/step - loss: 29.9034 - accuracy: 0.6687 - val_loss: 30.1266 - val_accuracy: 0.3400\n",
            "Epoch 58/800\n",
            "80/80 [==============================] - 3s 32ms/step - loss: 29.9076 - accuracy: 0.6900 - val_loss: 30.1422 - val_accuracy: 0.3200\n",
            "Epoch 59/800\n",
            "80/80 [==============================] - 2s 30ms/step - loss: 29.8977 - accuracy: 0.7013 - val_loss: 30.1703 - val_accuracy: 0.3500\n",
            "Epoch 60/800\n",
            "80/80 [==============================] - 2s 31ms/step - loss: 29.9612 - accuracy: 0.6062 - val_loss: 30.2052 - val_accuracy: 0.3500\n",
            "Epoch 61/800\n",
            "80/80 [==============================] - 2s 30ms/step - loss: 29.9647 - accuracy: 0.6037 - val_loss: 30.2394 - val_accuracy: 0.3200\n",
            "Epoch 62/800\n",
            "80/80 [==============================] - 3s 33ms/step - loss: 29.9182 - accuracy: 0.6450 - val_loss: 30.1831 - val_accuracy: 0.3400\n",
            "Epoch 63/800\n",
            "80/80 [==============================] - 2s 31ms/step - loss: 29.9211 - accuracy: 0.6775 - val_loss: 30.2347 - val_accuracy: 0.2500\n",
            "Epoch 64/800\n",
            "80/80 [==============================] - 3s 32ms/step - loss: 29.8976 - accuracy: 0.7025 - val_loss: 30.2447 - val_accuracy: 0.2600\n",
            "Epoch 65/800\n",
            "80/80 [==============================] - 2s 30ms/step - loss: 29.8948 - accuracy: 0.7088 - val_loss: 30.2561 - val_accuracy: 0.2500\n"
          ]
        }
      ],
      "source": [
        "history= model.fit(Xtrain, Ytrain, epochs=800, batch_size=10, verbose=1,validation_data=(Xval,Yval),callbacks=[callback])\n"
      ]
    },
    {
      "cell_type": "code",
      "source": [
        "import matplotlib.pyplot as plt\n",
        "\n",
        "plt.plot(history.history['accuracy'])\n",
        "plt.plot(history.history['val_accuracy'])\n",
        "plt.title('model accuracy')\n",
        "plt.ylabel('accuracy')\n",
        "plt.xlabel('epoch')\n",
        "plt.legend(['train', 'test'], loc='upper left')\n",
        "plt.show()\n"
      ],
      "metadata": {
        "colab": {
          "base_uri": "https://localhost:8080/",
          "height": 472
        },
        "id": "nYi_fFpeuILI",
        "outputId": "75d1b959-3ba3-46af-af79-f9138c9a321f"
      },
      "execution_count": 22,
      "outputs": [
        {
          "output_type": "display_data",
          "data": {
            "text/plain": [
              "<Figure size 640x480 with 1 Axes>"
            ],
            "image/png": "[encoded data removed]"
          },
          "metadata": {}
        }
      ]
    },
    {
      "cell_type": "code",
      "execution_count": 23,
      "metadata": {
        "id": "wBlrdJjqBdO8",
        "colab": {
          "base_uri": "https://localhost:8080/"
        },
        "outputId": "02f4dddf-f2c4-492c-b54d-0ef6120e09ad"
      },
      "outputs": [
        {
          "output_type": "stream",
          "name": "stdout",
          "text": [
            "4/4 [==============================] - 0s 21ms/step - loss: 30.2248 - accuracy: 0.2400\n",
            "Accuracy: 24.00\n"
          ]
        }
      ],
      "source": [
        "_, accuracy = model.evaluate(Xtest, Ytest)\n",
        "print('Accuracy: %.2f' % (accuracy*100))"
      ]
    }
  ],
  "metadata": {
    "colab": {
      "provenance": []
    },
    "kernelspec": {
      "display_name": "Python 3",
      "name": "python3"
    },
    "language_info": {
      "name": "python"
    },
    "accelerator": "GPU",
    "gpuClass": "standard"
  },
  "nbformat": 4,
  "nbformat_minor": 0
}